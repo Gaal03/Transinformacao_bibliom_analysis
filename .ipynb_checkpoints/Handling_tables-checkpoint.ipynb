{
 "cells": [
  {
   "cell_type": "markdown",
   "metadata": {},
   "source": [
    "# Handling the tables"
   ]
  },
  {
   "cell_type": "markdown",
   "metadata": {},
   "source": [
    "The main table 'Bibliometrix-Export-File-2021-11-17' have some information in a single line. So for example, the author list for a particular article is written in a single cell. This is also true for the name of the Universities and the Countries. So we need to create a routine that would split this line into several rows with the same article name, but each line has information on only one author, University name and Country."
   ]
  },
  {
   "cell_type": "code",
   "execution_count": 1,
   "metadata": {},
   "outputs": [],
   "source": [
    "import numpy as np\n",
    "import pandas as pd\n",
    "import re"
   ]
  },
  {
   "cell_type": "code",
   "execution_count": 56,
   "metadata": {},
   "outputs": [],
   "source": [
    "raw_data = pd.read_excel('Bibliometrix-Export-File-2021-11-17.xlsx', sheet_name='Sheet1')\n",
    "selected_columns = ['AF',\n",
    "                 'C1',\n",
    "                 'DT',\n",
    "                 'LA',\n",
    "                 'PY',\n",
    "                 'TI'\n",
    "                ]\n",
    "raw_data_copy = raw_data[selected_columns].copy()\n",
    "#Authors_Full_Name_aux = raw_data_copy['AF'].str.replace(',', '_').str.replace(' ', '_').str.replace(';',',')\n",
    "lst_col = 'AF'\n",
    "Authors_Full_Name_aux = raw_data_copy.assign(**{lst_col:raw_data_copy[lst_col].str.replace(',','-').str.replace(' ','_').str.split(';')})\n",
    "Authors_Full_Name = Authors_Full_Name_aux.explode('AF')\n",
    "Authors_Full_Name.AF = Authors_Full_Name['AF'].str.replace('-',',').str.replace('_',' ')\n",
    "#Authors_Full_Name.to_excel('AF_split.xlsx')\n",
    "#print(Authors_Full_Name)"
   ]
  },
  {
   "cell_type": "code",
   "execution_count": 12,
   "metadata": {},
   "outputs": [],
   "source": [
    "raw_data = pd.read_excel('Bibliometrix-Export-File-2021-11-17.xlsx', sheet_name='Sheet1')\n",
    "selected_columns = ['C1','TI']\n",
    "raw_data_copy = raw_data[selected_columns].copy()\n",
    "lst_col = 'C1'\n",
    "Affiliation_aux = raw_data_copy.assign(**{lst_col:raw_data_copy[lst_col].str.replace(',','-').str.replace(' ','_').str.split(';')})\n",
    "Affiliation_country.to_excel('Affiliation_country.xlsx')\n",
    "#print(Affiliation_country)"
   ]
  },
  {
   "cell_type": "code",
   "execution_count": null,
   "metadata": {},
   "outputs": [],
   "source": [
    "selected_columns = ['AU_UN','TI']\n",
    "raw_data_copy = raw_data[selected_columns].copy()\n",
    "lst_col = 'AU_UN'\n",
    "Affiliation_aux = raw_data_copy.assign(**{lst_col:raw_data_copy[lst_col].str.replace(',','-').str.replace(' ','_').str.split(';')})\n",
    "Affiliation_university = Affiliation_aux.explode('AU_UN')\n",
    "Affiliation_university.AU_UN = Affiliation_university['AU_UN'].str.replace('-',',').str.replace('_',' ').str.strip()\n",
    "Affiliation_university.to_excel('Affiliation_university.xlsx')\n",
    "#print(Affiliation_university)"
   ]
  },
  {
   "cell_type": "markdown",
   "metadata": {},
   "source": [
    "This procedure can be easily done with the pd.explode() method. This method will take a list within a cell and split it creating new rows with each item of the exploded cell. So, we transform the author and university names into a list splited by the semicollon and then exploded them, creating new rows with the single information on the author and university name. Further cleaning was performed with the string replace and strip methods."
   ]
  },
  {
   "cell_type": "code",
   "execution_count": 40,
   "metadata": {},
   "outputs": [
    {
     "name": "stdout",
     "output_type": "stream",
     "text": [
      "             C1                                                 TI\n",
      "0       BRAZIL.  FRBR AND RDA BASED METADATA APPLICATIONS IN DI...\n",
      "1     COLOMBIA.  EYE TRACKING AND USABILITY IN DIGITAL INFORMAT...\n",
      "2       BRAZIL.  EYE TRACKING AND USABILITY IN DIGITAL INFORMAT...\n",
      "3       BRAZIL.  METHODOLOGICAL CHOICES FOR RESEARCH IN INFORMA...\n",
      "4       BRAZIL.  METHODOLOGICAL CHOICES FOR RESEARCH IN INFORMA...\n",
      "..          ...                                                ...\n",
      "426     BRAZIL.  THE SEARCH FOR INFORMATION ON THE INTERNET: A ...\n",
      "427     BRAZIL.  THE SEARCH FOR INFORMATION ON THE INTERNET: A ...\n",
      "428     BRAZIL.  THE THEORETICAL APPROACH OF LENA VANIA RIBEIRO...\n",
      "429     BRAZIL.  IMPROVEMENT OF STRATEGISTS AND NOVICE DECISION...\n",
      "430     BRAZIL.  IMPROVEMENT OF STRATEGISTS AND NOVICE DECISION...\n",
      "\n",
      "[431 rows x 2 columns]\n"
     ]
    }
   ],
   "source": [
    "Country_df = pd.read_excel('Affiliation_country.xlsx')\n",
    "Country_df.C1 = Country_df['C1'].str.split(',')\n",
    "for i in range (Country_df['C1'].size):\n",
    "    Country_df['C1'].iloc[i] = Country_df['C1'].iloc[i][-1]\n",
    "Country_df.to_excel('Country.xlsx')\n",
    "print(Country_df)"
   ]
  },
  {
   "cell_type": "markdown",
   "metadata": {},
   "source": [
    "Finally, to obtain the countries involved in each article, we used the information of affiliation that we exploded previously, and we noticed that by splitting the affiliation string in all the commas we would be able access the country by selecting the last item of these lsits. So, we created a loop that goes through all lines and replace the string by the last value of the string list, which is the country. We further cleaned the data by removing the final dot on the Excel but it possible to implement a routine that does this easily."
   ]
  }
 ],
 "metadata": {
  "kernelspec": {
   "display_name": "Python 3",
   "language": "python",
   "name": "python3"
  },
  "language_info": {
   "codemirror_mode": {
    "name": "ipython",
    "version": 3
   },
   "file_extension": ".py",
   "mimetype": "text/x-python",
   "name": "python",
   "nbconvert_exporter": "python",
   "pygments_lexer": "ipython3",
   "version": "3.8.8"
  }
 },
 "nbformat": 4,
 "nbformat_minor": 2
}
